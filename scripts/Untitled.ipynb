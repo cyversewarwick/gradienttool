{
 "cells": [
  {
   "cell_type": "code",
   "execution_count": 1,
   "metadata": {
    "collapsed": true
   },
   "outputs": [],
   "source": [
    "import shared as ip2"
   ]
  },
  {
   "cell_type": "code",
   "execution_count": 2,
   "metadata": {
    "collapsed": true
   },
   "outputs": [],
   "source": [
    "inp = ip2.readCsvNamedMatrix(open('testdata/input.csv'))"
   ]
  },
  {
   "cell_type": "code",
   "execution_count": 3,
   "metadata": {
    "collapsed": false
   },
   "outputs": [
    {
     "data": {
      "text/plain": [
       "<shared.filehandling.NamedMatrix at 0x104bb5e48>"
      ]
     },
     "execution_count": 3,
     "metadata": {},
     "output_type": "execute_result"
    }
   ],
   "source": [
    "inp"
   ]
  },
  {
   "cell_type": "code",
   "execution_count": 4,
   "metadata": {
    "collapsed": false
   },
   "outputs": [
    {
     "data": {
      "text/plain": [
       "array([[ 0.10753 ,  0.66153 ,  0.11155 ,  0.95427 ,  0.99463 ,  0.73567 ,\n",
       "         0.88821 ,  0.93455 ,  1.3959  ,  0.98777 , -0.12094 ,  0.45794 ,\n",
       "        -0.2888  , -0.69278 , -0.72308 , -1.0159  , -1.022   , -0.63293 ,\n",
       "        -0.50002 , -0.27988 , -0.16046 , -0.2415  ,  0.14345 ,  0.6208  ,\n",
       "         0.6611  ,  0.98877 ,  1.0763  ,  0.93652 ,  1.0337  ,  0.70857 ,\n",
       "         0.85785 ,  0.20447 , -0.064732, -0.31094 , -1.0227  , -0.3925  ,\n",
       "        -0.80099 , -1.1259  , -0.72314 , -1.2732  , -0.80228 , -0.61161 ,\n",
       "        -0.23091 ,  0.062572, -0.17298 ,  0.28874 ,  0.53034 ,  0.90737 ,\n",
       "         1.1495  ,  1.2191  ,  0.8022  ,  0.8815  ,  0.43735 ,  0.21118 ,\n",
       "         0.14767 ,  0.15748 , -0.58782 , -0.6059  , -0.91114 , -0.75146 ,\n",
       "        -1.215   , -0.92436 , -0.67133 , -0.3432  ,  0.014087,  0.017186,\n",
       "        -0.29832 ,  0.14629 ,  0.351   ,  1.2519  ,  0.80775 ,  1.1468  ,\n",
       "         0.93644 ,  1.0437  ,  0.5272  ,  0.15343 , -0.13543 , -0.051403,\n",
       "        -0.46936 , -0.71938 , -0.58216 , -0.91661 , -0.95764 , -0.61333 ,\n",
       "        -0.94272 , -0.424   , -0.12774 , -0.048743],\n",
       "       [ 1.1078  ,  0.37265 ,  0.25226 ,  0.67593 ,  0.72647 ,  1.3675  ,\n",
       "        -0.55597 , -0.40633 , -0.7743  , -1.8675  , -1.2083  , -1.8862  ,\n",
       "        -0.48078 , -1.1771  , -0.44995 , -0.49479 ,  0.22649 ,  0.065178,\n",
       "         0.86847 ,  1.1959  ,  1.8115  ,  0.90294 , -0.069178,  0.53578 ,\n",
       "         1.5035  ,  0.087412,  0.84582 ,  0.13675 ,  0.49583 , -1.4804  ,\n",
       "        -0.8319  , -1.5049  ,  0.46517 , -0.57622 , -0.21148 , -1.2621  ,\n",
       "        -0.73431 , -0.35876 ,  0.62394 ,  0.22641 ,  0.97426 , -0.19967 ,\n",
       "         0.77865 ,  0.58821 ,  0.21147 ,  1.2096  ,  0.96723 ,  0.64023 ,\n",
       "        -0.3015  ,  0.63848 , -0.047431, -0.64953 , -0.72161 , -1.032   ,\n",
       "        -1.8639  , -1.1317  , -1.3167  , -1.2227  , -1.0782  , -0.4893  ,\n",
       "        -0.92659 ,  0.84746 ,  0.88352 ,  0.81622 ,  0.93819 ,  0.60092 ,\n",
       "         1.5093  ,  0.88896 ,  0.46897 ,  1.2992  ,  0.25296 , -0.21978 ,\n",
       "        -0.3694  , -0.92396 , -1.2931  ,  0.36203 , -0.16108 , -0.83506 ,\n",
       "        -1.5295  , -1.1658  , -0.58827 ,  0.17319 , -0.59127 , -0.79959 ,\n",
       "        -0.10106 ,  0.99299 ,  1.1512  ,  1.2258  ]])"
      ]
     },
     "execution_count": 4,
     "metadata": {},
     "output_type": "execute_result"
    }
   ],
   "source": [
    "inp.data"
   ]
  },
  {
   "cell_type": "code",
   "execution_count": 5,
   "metadata": {
    "collapsed": false
   },
   "outputs": [
    {
     "data": {
      "text/plain": [
       "2"
      ]
     },
     "execution_count": 5,
     "metadata": {},
     "output_type": "execute_result"
    }
   ],
   "source": [
    "inp.nrows()"
   ]
  },
  {
   "cell_type": "code",
   "execution_count": 6,
   "metadata": {
    "collapsed": true
   },
   "outputs": [],
   "source": [
    "import numpy as np"
   ]
  },
  {
   "cell_type": "code",
   "execution_count": 8,
   "metadata": {
    "collapsed": false
   },
   "outputs": [
    {
     "data": {
      "text/plain": [
       "array([ 0.03573463, -0.03382306])"
      ]
     },
     "execution_count": 8,
     "metadata": {},
     "output_type": "execute_result"
    }
   ],
   "source": [
    "np.mean(inp.data,axis=1)"
   ]
  },
  {
   "cell_type": "code",
   "execution_count": 17,
   "metadata": {
    "collapsed": false
   },
   "outputs": [],
   "source": [
    "import scipy.stats as sps"
   ]
  },
  {
   "cell_type": "code",
   "execution_count": 19,
   "metadata": {
    "collapsed": false
   },
   "outputs": [],
   "source": [
    "kek = sps.mstats.zscore(inp.data,axis=1,ddof=1)"
   ]
  },
  {
   "cell_type": "code",
   "execution_count": 22,
   "metadata": {
    "collapsed": false
   },
   "outputs": [
    {
     "data": {
      "text/plain": [
       "array([ 1.,  1.])"
      ]
     },
     "execution_count": 22,
     "metadata": {},
     "output_type": "execute_result"
    }
   ],
   "source": [
    "np.std(kek,axis=1,ddof=1)"
   ]
  },
  {
   "cell_type": "code",
   "execution_count": null,
   "metadata": {
    "collapsed": true
   },
   "outputs": [],
   "source": []
  }
 ],
 "metadata": {
  "kernelspec": {
   "display_name": "Python 3",
   "language": "python",
   "name": "python3"
  },
  "language_info": {
   "codemirror_mode": {
    "name": "ipython",
    "version": 3
   },
   "file_extension": ".py",
   "mimetype": "text/x-python",
   "name": "python",
   "nbconvert_exporter": "python",
   "pygments_lexer": "ipython3",
   "version": "3.4.3"
  }
 },
 "nbformat": 4,
 "nbformat_minor": 0
}
